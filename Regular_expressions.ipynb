{
  "nbformat": 4,
  "nbformat_minor": 0,
  "metadata": {
    "colab": {
      "provenance": [],
      "authorship_tag": "ABX9TyNGYEorhzVQofs3/BGt8L+g",
      "include_colab_link": true
    },
    "kernelspec": {
      "name": "python3",
      "display_name": "Python 3"
    },
    "language_info": {
      "name": "python"
    }
  },
  "cells": [
    {
      "cell_type": "markdown",
      "metadata": {
        "id": "view-in-github",
        "colab_type": "text"
      },
      "source": [
        "<a href=\"https://colab.research.google.com/github/IndianJohnnyDepp/NLP_Practice_Notebooks/blob/main/Regular_expressions.ipynb\" target=\"_parent\"><img src=\"https://colab.research.google.com/assets/colab-badge.svg\" alt=\"Open In Colab\"/></a>"
      ]
    },
    {
      "cell_type": "markdown",
      "source": [
        "# Regular Expressions\n",
        "\n",
        "Regular Expressions (sometimes called regex for short) allow a user to search for strings using almost any sort of rule they can come up with. For example, finding all capital letters in a string, or finding a phone number in a document.\n",
        "\n",
        "Regular expressions are notorious for their seemingly strange syntax. This strange syntax is a byproduct of their flexibility. Regular expressions have to be able to filter out any string pattern you can imagine, which is why they have a complex string pattern format.\n",
        "\n",
        "Regular expressions are handled using Python's built-in **re** library. See [the docs](https://docs.python.org/3/library/re.html) for more information."
      ],
      "metadata": {
        "id": "gOC9qrrQLkDi"
      }
    },
    {
      "cell_type": "code",
      "execution_count": null,
      "metadata": {
        "id": "oKiVaQFhIklf"
      },
      "outputs": [],
      "source": [
        "sampletext = \"My phone number is +91-9677080857 and my dad's phone number is +91-9884831392\""
      ]
    },
    {
      "cell_type": "code",
      "source": [
        "\"phone\" in sampletext"
      ],
      "metadata": {
        "colab": {
          "base_uri": "https://localhost:8080/"
        },
        "id": "PrTNxLKPIyJc",
        "outputId": "2c41311f-bffa-4947-f467-6f39f2deb877"
      },
      "execution_count": null,
      "outputs": [
        {
          "output_type": "execute_result",
          "data": {
            "text/plain": [
              "True"
            ]
          },
          "metadata": {},
          "execution_count": 2
        }
      ]
    },
    {
      "cell_type": "code",
      "source": [
        "r\"+\\d{2}-\\d{10}\" in sampletext"
      ],
      "metadata": {
        "colab": {
          "base_uri": "https://localhost:8080/"
        },
        "id": "0-A4ywmxI00V",
        "outputId": "7c2771a9-1509-41f5-cbf2-2eedecb93f84"
      },
      "execution_count": null,
      "outputs": [
        {
          "output_type": "execute_result",
          "data": {
            "text/plain": [
              "False"
            ]
          },
          "metadata": {},
          "execution_count": 3
        }
      ]
    },
    {
      "cell_type": "code",
      "source": [
        "import re"
      ],
      "metadata": {
        "id": "t0N-yGxqJOcB"
      },
      "execution_count": null,
      "outputs": []
    },
    {
      "cell_type": "code",
      "source": [
        "re.search(\"phone\", sampletext)"
      ],
      "metadata": {
        "colab": {
          "base_uri": "https://localhost:8080/"
        },
        "id": "FCXE3XpGJUKd",
        "outputId": "8c72726a-e531-4899-843b-584d53b513d0"
      },
      "execution_count": null,
      "outputs": [
        {
          "output_type": "execute_result",
          "data": {
            "text/plain": [
              "<re.Match object; span=(3, 8), match='phone'>"
            ]
          },
          "metadata": {},
          "execution_count": 6
        }
      ]
    },
    {
      "cell_type": "code",
      "source": [
        "re.search(\"phone\", sampletext).span()"
      ],
      "metadata": {
        "colab": {
          "base_uri": "https://localhost:8080/"
        },
        "id": "3FBgsxA4JbOZ",
        "outputId": "3352ef95-41c2-477a-bc1c-4ddae515766b"
      },
      "execution_count": null,
      "outputs": [
        {
          "output_type": "execute_result",
          "data": {
            "text/plain": [
              "(3, 8)"
            ]
          },
          "metadata": {},
          "execution_count": 7
        }
      ]
    },
    {
      "cell_type": "markdown",
      "source": [
        "Search only gets you the first instance"
      ],
      "metadata": {
        "id": "X6wcHMH2J1pV"
      }
    },
    {
      "cell_type": "code",
      "source": [
        "print(re.search(\"phone\", sampletext).start())\n",
        "print(re.search(\"phone\", sampletext).end())"
      ],
      "metadata": {
        "colab": {
          "base_uri": "https://localhost:8080/"
        },
        "id": "TykBM1PDJk3S",
        "outputId": "269dab88-1f48-4409-f7b7-9fe9765fec98"
      },
      "execution_count": null,
      "outputs": [
        {
          "output_type": "stream",
          "name": "stdout",
          "text": [
            "3\n",
            "8\n"
          ]
        }
      ]
    },
    {
      "cell_type": "code",
      "source": [
        "re.findall(\"phone\", sampletext)"
      ],
      "metadata": {
        "colab": {
          "base_uri": "https://localhost:8080/"
        },
        "id": "im-aD4f_JpNO",
        "outputId": "d31a53ab-cea6-4f1b-ccd6-97f51097f75c"
      },
      "execution_count": null,
      "outputs": [
        {
          "output_type": "execute_result",
          "data": {
            "text/plain": [
              "['phone', 'phone']"
            ]
          },
          "metadata": {},
          "execution_count": 12
        }
      ]
    },
    {
      "cell_type": "code",
      "source": [
        "len(re.findall(\"phone\", sampletext))"
      ],
      "metadata": {
        "colab": {
          "base_uri": "https://localhost:8080/"
        },
        "id": "EZFsS4n1J8Ol",
        "outputId": "846b69ab-b963-4ea0-fcc7-24103ede30ac"
      },
      "execution_count": null,
      "outputs": [
        {
          "output_type": "execute_result",
          "data": {
            "text/plain": [
              "2"
            ]
          },
          "metadata": {},
          "execution_count": 13
        }
      ]
    },
    {
      "cell_type": "code",
      "source": [
        "for instance in re.finditer(\"phone\", sampletext):\n",
        "  print(instance.span())"
      ],
      "metadata": {
        "colab": {
          "base_uri": "https://localhost:8080/"
        },
        "id": "nGl33rBAKDqF",
        "outputId": "39c6a065-5ef8-45ee-f6f0-eae4e850336a"
      },
      "execution_count": null,
      "outputs": [
        {
          "output_type": "stream",
          "name": "stdout",
          "text": [
            "(3, 8)\n",
            "(47, 52)\n"
          ]
        }
      ]
    },
    {
      "cell_type": "code",
      "source": [
        "instance.group()"
      ],
      "metadata": {
        "id": "mGCS6U2qKOFF",
        "colab": {
          "base_uri": "https://localhost:8080/",
          "height": 36
        },
        "outputId": "ba741fbf-baff-4525-8be2-249743053ce1"
      },
      "execution_count": 17,
      "outputs": [
        {
          "output_type": "execute_result",
          "data": {
            "text/plain": [
              "'phone'"
            ],
            "application/vnd.google.colaboratory.intrinsic+json": {
              "type": "string"
            }
          },
          "metadata": {},
          "execution_count": 17
        }
      ]
    },
    {
      "cell_type": "code",
      "source": [
        "instance"
      ],
      "metadata": {
        "colab": {
          "base_uri": "https://localhost:8080/"
        },
        "id": "ad8_n2j9LuvL",
        "outputId": "b7504682-5b8d-4a09-e83f-4ac8b909d80c"
      },
      "execution_count": 18,
      "outputs": [
        {
          "output_type": "execute_result",
          "data": {
            "text/plain": [
              "<re.Match object; span=(47, 52), match='phone'>"
            ]
          },
          "metadata": {},
          "execution_count": 18
        }
      ]
    },
    {
      "cell_type": "markdown",
      "source": [
        "## Identifiers for Characters in Patterns\n",
        "\n",
        "Characters such as a digit or a single string have different codes that represent them. You can use these to build up a pattern string. Notice how these make heavy use of the backwards slash \\ . Because of this when defining a pattern string for regular expression we use the format:\n",
        "\n",
        "    r'mypattern'\n",
        "    \n",
        "placing the r in front of the string allows python to understand that the \\ in the pattern string are not meant to be escape slashes.\n",
        "\n",
        "Below you can find a table of all the possible identifiers:"
      ],
      "metadata": {
        "id": "Nx_qynB1L51r"
      }
    },
    {
      "cell_type": "markdown",
      "source": [
        "<table ><tr><th>Character</th><th>Description</th><th>Example Pattern Code</th><th >Exammple Match</th></tr>\n",
        "\n",
        "<tr ><td><span >\\d</span></td><td>A digit</td><td>file_\\d\\d</td><td>file_25</td></tr>\n",
        "\n",
        "<tr ><td><span >\\w</span></td><td>Alphanumeric</td><td>\\w-\\w\\w\\w</td><td>A-b_1</td></tr>\n",
        "\n",
        "\n",
        "\n",
        "<tr ><td><span >\\s</span></td><td>White space</td><td>a\\sb\\sc</td><td>a b c</td></tr>\n",
        "\n",
        "\n",
        "\n",
        "<tr ><td><span >\\D</span></td><td>A non digit</td><td>\\D\\D\\D</td><td>ABC</td></tr>\n",
        "\n",
        "<tr ><td><span >\\W</span></td><td>Non-alphanumeric</td><td>\\W\\W\\W\\W\\W</td><td>*-+=)</td></tr>\n",
        "\n",
        "<tr ><td><span >\\S</span></td><td>Non-whitespace</td><td>\\S\\S\\S\\S</td><td>Yoyo</td></tr></table>"
      ],
      "metadata": {
        "id": "53ZyiZ0aL_OY"
      }
    },
    {
      "cell_type": "code",
      "source": [
        "sampletext"
      ],
      "metadata": {
        "colab": {
          "base_uri": "https://localhost:8080/",
          "height": 36
        },
        "id": "QePV1pwfLw30",
        "outputId": "07cd18f4-cd49-40dd-ab08-9ea94c575e36"
      },
      "execution_count": 20,
      "outputs": [
        {
          "output_type": "execute_result",
          "data": {
            "text/plain": [
              "\"My phone number is +91-9677080857 and my dad's phone number is +91-9884831392\""
            ],
            "application/vnd.google.colaboratory.intrinsic+json": {
              "type": "string"
            }
          },
          "metadata": {},
          "execution_count": 20
        }
      ]
    },
    {
      "cell_type": "markdown",
      "source": [
        "Notice the repetition of \\d. That is a bit of an annoyance, especially if we are looking for very long strings of numbers. Let's explore the possible quantifiers.\n",
        "\n",
        "## Quantifiers\n",
        "\n",
        "Now that we know the special character designations, we can use them along with quantifiers to define how many we expect."
      ],
      "metadata": {
        "id": "VxUnKjKvNN-8"
      }
    },
    {
      "cell_type": "markdown",
      "source": [
        "<table ><tr><th>Character</th><th>Description</th><th>Example Pattern Code</th><th >Exammple Match</th></tr>\n",
        "\n",
        "<tr ><td><span >+</span></td><td>Occurs one or more times</td><td>\tVersion \\w-\\w+</td><td>Version A-b1_1</td></tr>\n",
        "\n",
        "<tr ><td><span >{3}</span></td><td>Occurs exactly 3 times</td><td>\\D{3}</td><td>abc</td></tr>\n",
        "\n",
        "\n",
        "\n",
        "<tr ><td><span >{2,4}</span></td><td>Occurs 2 to 4 times</td><td>\\d{2,4}</td><td>123</td></tr>\n",
        "\n",
        "\n",
        "\n",
        "<tr ><td><span >{3,}</span></td><td>Occurs 3 or more</td><td>\\w{3,}</td><td>anycharacters</td></tr>\n",
        "\n",
        "<tr ><td><span >\\*</span></td><td>Occurs zero or more times</td><td>A\\*B\\*C*</td><td>AAACC</td></tr>\n",
        "\n",
        "<tr ><td><span >?</span></td><td>Once or none</td><td>plurals?</td><td>plural</td></tr></table>"
      ],
      "metadata": {
        "id": "uekK9sNMNOyN"
      }
    },
    {
      "cell_type": "code",
      "source": [
        "pattern = r'\\+\\d{2}-\\d{10}'"
      ],
      "metadata": {
        "id": "57WIXHrkL9Zt"
      },
      "execution_count": 30,
      "outputs": []
    },
    {
      "cell_type": "code",
      "source": [
        "phonenumber = re.search(pattern,sampletext)"
      ],
      "metadata": {
        "id": "K6-5upCEMTjE"
      },
      "execution_count": 31,
      "outputs": []
    },
    {
      "cell_type": "code",
      "source": [
        "phonenumber"
      ],
      "metadata": {
        "colab": {
          "base_uri": "https://localhost:8080/"
        },
        "id": "SHz2NLJsMX_B",
        "outputId": "e5746ecb-aac4-4aad-dc02-ee062723cc55"
      },
      "execution_count": 32,
      "outputs": [
        {
          "output_type": "execute_result",
          "data": {
            "text/plain": [
              "<re.Match object; span=(19, 33), match='+91-9677080857'>"
            ]
          },
          "metadata": {},
          "execution_count": 32
        }
      ]
    },
    {
      "cell_type": "code",
      "source": [
        "phonenumber.group()"
      ],
      "metadata": {
        "colab": {
          "base_uri": "https://localhost:8080/",
          "height": 36
        },
        "id": "pSSivqOBM0Vm",
        "outputId": "a58f503a-ca7b-4ed2-ba64-9724651d2d23"
      },
      "execution_count": 33,
      "outputs": [
        {
          "output_type": "execute_result",
          "data": {
            "text/plain": [
              "'+91-9677080857'"
            ],
            "application/vnd.google.colaboratory.intrinsic+json": {
              "type": "string"
            }
          },
          "metadata": {},
          "execution_count": 33
        }
      ]
    },
    {
      "cell_type": "markdown",
      "source": [
        "## Groups\n",
        "\n",
        "What if we wanted to do two tasks, find phone numbers, but also be able to quickly extract their area code (the first three digits). We can use groups for any general task that involves grouping together regular expressions (so that we can later break them down).\n",
        "\n",
        "Using the phone number example, we can separate groups of regular expressions using parentheses:"
      ],
      "metadata": {
        "id": "3AlRCfmkNj0u"
      }
    },
    {
      "cell_type": "code",
      "source": [
        "phone_pattern = re.compile(r\"(\\+\\d{2})-(\\d{10})\")"
      ],
      "metadata": {
        "id": "d9m1FnR-M44r"
      },
      "execution_count": 34,
      "outputs": []
    },
    {
      "cell_type": "code",
      "source": [
        "phone_pattern"
      ],
      "metadata": {
        "colab": {
          "base_uri": "https://localhost:8080/"
        },
        "id": "BgRHzfObOCYm",
        "outputId": "6da37758-3456-4d83-8245-993537e9c81e"
      },
      "execution_count": 35,
      "outputs": [
        {
          "output_type": "execute_result",
          "data": {
            "text/plain": [
              "re.compile(r'(\\+\\d{2})-(\\d{10})', re.UNICODE)"
            ]
          },
          "metadata": {},
          "execution_count": 35
        }
      ]
    },
    {
      "cell_type": "code",
      "source": [
        "pattern1 = r\"\\+\\d{2}-\\d{10}\""
      ],
      "metadata": {
        "id": "fKJMTQXCOHq7"
      },
      "execution_count": 36,
      "outputs": []
    },
    {
      "cell_type": "code",
      "source": [
        "searchobj = re.search(pattern1,sampletext)"
      ],
      "metadata": {
        "id": "6H7KhaAfojSF"
      },
      "execution_count": 44,
      "outputs": []
    },
    {
      "cell_type": "code",
      "source": [
        "searchobj.group(0)"
      ],
      "metadata": {
        "colab": {
          "base_uri": "https://localhost:8080/",
          "height": 36
        },
        "id": "uAZuzkHgowGR",
        "outputId": "06284044-be88-414d-b05d-cc4735479209"
      },
      "execution_count": 45,
      "outputs": [
        {
          "output_type": "execute_result",
          "data": {
            "text/plain": [
              "'+91-9677080857'"
            ],
            "application/vnd.google.colaboratory.intrinsic+json": {
              "type": "string"
            }
          },
          "metadata": {},
          "execution_count": 45
        }
      ]
    },
    {
      "cell_type": "code",
      "source": [
        "pattern2 = r\"(\\+\\d{2})-(\\d{10})\""
      ],
      "metadata": {
        "id": "RcLaebm2o_mm"
      },
      "execution_count": 51,
      "outputs": []
    },
    {
      "cell_type": "code",
      "source": [
        "searchobj1 = re.search(pattern2,sampletext)"
      ],
      "metadata": {
        "id": "FhRqsZ1HpFvy"
      },
      "execution_count": 52,
      "outputs": []
    },
    {
      "cell_type": "code",
      "source": [
        "searchobj1.group()"
      ],
      "metadata": {
        "colab": {
          "base_uri": "https://localhost:8080/",
          "height": 36
        },
        "id": "gj1CruFqpMEp",
        "outputId": "f56abefc-eef6-47c6-be16-710901f44008"
      },
      "execution_count": 60,
      "outputs": [
        {
          "output_type": "execute_result",
          "data": {
            "text/plain": [
              "'+91-9677080857'"
            ],
            "application/vnd.google.colaboratory.intrinsic+json": {
              "type": "string"
            }
          },
          "metadata": {},
          "execution_count": 60
        }
      ]
    },
    {
      "cell_type": "code",
      "source": [
        "searchobj1.group(1)"
      ],
      "metadata": {
        "colab": {
          "base_uri": "https://localhost:8080/",
          "height": 36
        },
        "id": "nkhSt0VipNh3",
        "outputId": "fa4f442b-9b1a-40fb-91e5-86cc882e6c0e"
      },
      "execution_count": 62,
      "outputs": [
        {
          "output_type": "execute_result",
          "data": {
            "text/plain": [
              "'+91'"
            ],
            "application/vnd.google.colaboratory.intrinsic+json": {
              "type": "string"
            }
          },
          "metadata": {},
          "execution_count": 62
        }
      ]
    },
    {
      "cell_type": "code",
      "source": [
        "searchobj1 = re.search(phone_pattern,sampletext)"
      ],
      "metadata": {
        "id": "qxd5t42hpPBy"
      },
      "execution_count": 55,
      "outputs": []
    },
    {
      "cell_type": "code",
      "source": [
        "searchobj1.group(0)"
      ],
      "metadata": {
        "colab": {
          "base_uri": "https://localhost:8080/",
          "height": 36
        },
        "id": "roZMioPzwMW_",
        "outputId": "db098c92-c226-4fb2-e21f-ffaf9fde6b7f"
      },
      "execution_count": 56,
      "outputs": [
        {
          "output_type": "execute_result",
          "data": {
            "text/plain": [
              "'+91-9677080857'"
            ],
            "application/vnd.google.colaboratory.intrinsic+json": {
              "type": "string"
            }
          },
          "metadata": {},
          "execution_count": 56
        }
      ]
    },
    {
      "cell_type": "code",
      "source": [
        "re.search(r\"man|woman\", \"The man is here\")"
      ],
      "metadata": {
        "colab": {
          "base_uri": "https://localhost:8080/"
        },
        "id": "SlT5of6owPM0",
        "outputId": "d6bdab17-fa70-4575-fcc3-50fcce76736a"
      },
      "execution_count": 63,
      "outputs": [
        {
          "output_type": "execute_result",
          "data": {
            "text/plain": [
              "<re.Match object; span=(4, 7), match='man'>"
            ]
          },
          "metadata": {},
          "execution_count": 63
        }
      ]
    },
    {
      "cell_type": "code",
      "source": [
        "re.search(r\"man|woman\", \"The woman is here\")"
      ],
      "metadata": {
        "colab": {
          "base_uri": "https://localhost:8080/"
        },
        "id": "B0mWnzBUxCP_",
        "outputId": "84e99b87-17f5-4a95-c599-5fe9624cbcd3"
      },
      "execution_count": 64,
      "outputs": [
        {
          "output_type": "execute_result",
          "data": {
            "text/plain": [
              "<re.Match object; span=(4, 9), match='woman'>"
            ]
          },
          "metadata": {},
          "execution_count": 64
        }
      ]
    },
    {
      "cell_type": "code",
      "source": [
        "re.findall(r\".at\", \"The fat cat sat at the batmobile\")"
      ],
      "metadata": {
        "colab": {
          "base_uri": "https://localhost:8080/"
        },
        "id": "VwbS7SsrxE5l",
        "outputId": "73fdb2ec-b304-478a-8a09-2b75350d4376"
      },
      "execution_count": 65,
      "outputs": [
        {
          "output_type": "execute_result",
          "data": {
            "text/plain": [
              "['fat', 'cat', 'sat', ' at', 'bat']"
            ]
          },
          "metadata": {},
          "execution_count": 65
        }
      ]
    },
    {
      "cell_type": "code",
      "source": [
        "re.findall(r\"..at.\", \"The fat cat sat at the batmobile\")"
      ],
      "metadata": {
        "colab": {
          "base_uri": "https://localhost:8080/"
        },
        "id": "VraqaIc7xXJC",
        "outputId": "dda21965-ead4-4475-95e3-c1892028ffd7"
      },
      "execution_count": 66,
      "outputs": [
        {
          "output_type": "execute_result",
          "data": {
            "text/plain": [
              "[' fat ', ' sat ', ' batm']"
            ]
          },
          "metadata": {},
          "execution_count": 66
        }
      ]
    },
    {
      "cell_type": "code",
      "source": [
        "re.findall(r\"\\d$\", \"1number2\")"
      ],
      "metadata": {
        "colab": {
          "base_uri": "https://localhost:8080/"
        },
        "id": "rbfaysdU1m4x",
        "outputId": "5c035fa0-e91d-4dfd-c1bf-7d04e183a1f4"
      },
      "execution_count": 67,
      "outputs": [
        {
          "output_type": "execute_result",
          "data": {
            "text/plain": [
              "['2']"
            ]
          },
          "metadata": {},
          "execution_count": 67
        }
      ]
    },
    {
      "cell_type": "code",
      "source": [
        "re.findall(r\"^\\d\", \"1number2\")"
      ],
      "metadata": {
        "colab": {
          "base_uri": "https://localhost:8080/"
        },
        "id": "oTlVAjeE2K11",
        "outputId": "82b68241-55cf-4994-d567-84be78a625a4"
      },
      "execution_count": 68,
      "outputs": [
        {
          "output_type": "execute_result",
          "data": {
            "text/plain": [
              "['1']"
            ]
          },
          "metadata": {},
          "execution_count": 68
        }
      ]
    },
    {
      "cell_type": "markdown",
      "source": [
        "Exclude numbers"
      ],
      "metadata": {
        "id": "Com2UaLC2ntN"
      }
    },
    {
      "cell_type": "code",
      "source": [
        "re.findall(r\"[^\\d]\", \"1number2\")"
      ],
      "metadata": {
        "colab": {
          "base_uri": "https://localhost:8080/"
        },
        "id": "KORGrLDh2OYC",
        "outputId": "277dba17-6d71-4caf-8626-9b1a7ea0f00f"
      },
      "execution_count": 69,
      "outputs": [
        {
          "output_type": "execute_result",
          "data": {
            "text/plain": [
              "['n', 'u', 'm', 'b', 'e', 'r']"
            ]
          },
          "metadata": {},
          "execution_count": 69
        }
      ]
    },
    {
      "cell_type": "code",
      "source": [
        "re.findall(r\"[^\\d]+\", \"1number2\")"
      ],
      "metadata": {
        "colab": {
          "base_uri": "https://localhost:8080/"
        },
        "id": "LcKisofq2ggJ",
        "outputId": "c5ed64ef-81bd-4869-f142-f915d636f0c0"
      },
      "execution_count": 70,
      "outputs": [
        {
          "output_type": "execute_result",
          "data": {
            "text/plain": [
              "['number']"
            ]
          },
          "metadata": {},
          "execution_count": 70
        }
      ]
    },
    {
      "cell_type": "code",
      "source": [
        "re.findall(r\"[^\\d]+\", \"1number2 2to0 3be4 5removed8\")"
      ],
      "metadata": {
        "colab": {
          "base_uri": "https://localhost:8080/"
        },
        "id": "8fE3Wpbg2tS6",
        "outputId": "592b293b-f448-4651-a46f-65b5b18c62fc"
      },
      "execution_count": 71,
      "outputs": [
        {
          "output_type": "execute_result",
          "data": {
            "text/plain": [
              "['number', ' ', 'to', ' ', 'be', ' ', 'removed']"
            ]
          },
          "metadata": {},
          "execution_count": 71
        }
      ]
    },
    {
      "cell_type": "code",
      "source": [
        "punct = \"This is a string with punctuations! How to remove them? Let's find out.\""
      ],
      "metadata": {
        "id": "82j7EvHW210q"
      },
      "execution_count": 72,
      "outputs": []
    },
    {
      "cell_type": "code",
      "source": [
        "re.findall(\"[^.?!]+\",punct)"
      ],
      "metadata": {
        "colab": {
          "base_uri": "https://localhost:8080/"
        },
        "id": "gvmvZvwC3OEQ",
        "outputId": "39939f58-0db2-48a0-9b7f-697fb612ddbf"
      },
      "execution_count": 74,
      "outputs": [
        {
          "output_type": "execute_result",
          "data": {
            "text/plain": [
              "['This is a string with punctuations',\n",
              " ' How to remove them',\n",
              " \" Let's find out\"]"
            ]
          },
          "metadata": {},
          "execution_count": 74
        }
      ]
    },
    {
      "cell_type": "markdown",
      "source": [
        "Let us join the list to get one string as original"
      ],
      "metadata": {
        "id": "usFBkmBx6rSk"
      }
    },
    {
      "cell_type": "code",
      "source": [
        "\" \".join(re.findall(\"[^.?!]+\",punct))"
      ],
      "metadata": {
        "colab": {
          "base_uri": "https://localhost:8080/",
          "height": 36
        },
        "id": "GPxFW35051Sn",
        "outputId": "6aa7d3ab-1ca1-4c7e-ef8a-96ded387e607"
      },
      "execution_count": 75,
      "outputs": [
        {
          "output_type": "execute_result",
          "data": {
            "text/plain": [
              "\"This is a string with punctuations  How to remove them  Let's find out\""
            ],
            "application/vnd.google.colaboratory.intrinsic+json": {
              "type": "string"
            }
          },
          "metadata": {},
          "execution_count": 75
        }
      ]
    },
    {
      "cell_type": "code",
      "source": [
        "re.findall(r'[\\w]+-[\\w]+', \"I want to pick hyphen-words. I am re-applying regular expressions logics.\")"
      ],
      "metadata": {
        "colab": {
          "base_uri": "https://localhost:8080/"
        },
        "id": "MnaYre-D6I3P",
        "outputId": "f8ee3b32-035a-4f2c-a545-dbae6a992c13"
      },
      "execution_count": 76,
      "outputs": [
        {
          "output_type": "execute_result",
          "data": {
            "text/plain": [
              "['hyphen-words', 're-applying']"
            ]
          },
          "metadata": {},
          "execution_count": 76
        }
      ]
    },
    {
      "cell_type": "code",
      "source": [],
      "metadata": {
        "id": "tNaMK2Nk7DCB"
      },
      "execution_count": null,
      "outputs": []
    }
  ]
}