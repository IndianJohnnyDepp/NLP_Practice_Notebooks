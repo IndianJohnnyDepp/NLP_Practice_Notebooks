{
  "nbformat": 4,
  "nbformat_minor": 0,
  "metadata": {
    "colab": {
      "provenance": [],
      "authorship_tag": "ABX9TyMdQJ9cNNGtZjHBIHU6vJfG",
      "include_colab_link": true
    },
    "kernelspec": {
      "name": "python3",
      "display_name": "Python 3"
    },
    "language_info": {
      "name": "python"
    }
  },
  "cells": [
    {
      "cell_type": "markdown",
      "metadata": {
        "id": "view-in-github",
        "colab_type": "text"
      },
      "source": [
        "<a href=\"https://colab.research.google.com/github/IndianJohnnyDepp/NLP_Practice_Notebooks/blob/main/Python_text_basics.ipynb\" target=\"_parent\"><img src=\"https://colab.research.google.com/assets/colab-badge.svg\" alt=\"Open In Colab\"/></a>"
      ]
    },
    {
      "cell_type": "code",
      "execution_count": 2,
      "metadata": {
        "colab": {
          "base_uri": "https://localhost:8080/"
        },
        "id": "AIpp52294LrZ",
        "outputId": "4d9bd167-8c27-4468-bd83-5eaed96bd5e4"
      },
      "outputs": [
        {
          "output_type": "stream",
          "name": "stdout",
          "text": [
            "My name is Aravind\n"
          ]
        }
      ],
      "source": [
        "name = \"Aravind\"\n",
        "print(\"My name is {}\".format(name))"
      ]
    },
    {
      "cell_type": "code",
      "source": [
        "language = \"python\"\n",
        "print(f\"This programming language is called {language}\")"
      ],
      "metadata": {
        "id": "VQg4YLZq5QbG",
        "colab": {
          "base_uri": "https://localhost:8080/"
        },
        "outputId": "ec49f8a2-f479-4162-f634-fc49fa6faf41"
      },
      "execution_count": 1,
      "outputs": [
        {
          "output_type": "stream",
          "name": "stdout",
          "text": [
            "This programming language is called python\n"
          ]
        }
      ]
    },
    {
      "cell_type": "code",
      "source": [
        "d = {'a': 123, 'b': 456}\n",
        "print(f\"The number corresponding to a is {d['a']}\")"
      ],
      "metadata": {
        "colab": {
          "base_uri": "https://localhost:8080/"
        },
        "id": "7Bz03Am47s8k",
        "outputId": "e825fd7d-997d-4995-80d4-6b3eb321cdba"
      },
      "execution_count": 3,
      "outputs": [
        {
          "output_type": "stream",
          "name": "stdout",
          "text": [
            "The number corresponding to a is 123\n"
          ]
        }
      ]
    },
    {
      "cell_type": "code",
      "source": [
        "mylist = [123,456]\n",
        "print(f\"The first number is {mylist[0]}\")"
      ],
      "metadata": {
        "colab": {
          "base_uri": "https://localhost:8080/"
        },
        "id": "seKo4SF78IYd",
        "outputId": "9ced3955-9774-4e5d-a6ed-5804f863a87b"
      },
      "execution_count": 4,
      "outputs": [
        {
          "output_type": "stream",
          "name": "stdout",
          "text": [
            "The first number is 123\n"
          ]
        }
      ]
    },
    {
      "cell_type": "code",
      "source": [
        "library = [(\"Author\", \"Topics\", \"Pages\"), (\"Twain\", \"Rafting in the water\", 601), (\"Feynman\", \"Physics\", 95), (\"Hamilton\", \"Mythology\", 144)]"
      ],
      "metadata": {
        "id": "3YMEqZSY8VU4"
      },
      "execution_count": 10,
      "outputs": []
    },
    {
      "cell_type": "code",
      "source": [
        "library"
      ],
      "metadata": {
        "id": "RICb193T9Rl0",
        "outputId": "5991b677-1fdf-44af-fdbc-3f9ccace108c",
        "colab": {
          "base_uri": "https://localhost:8080/"
        }
      },
      "execution_count": 11,
      "outputs": [
        {
          "output_type": "execute_result",
          "data": {
            "text/plain": [
              "[('Author', 'Topics', 'Pages'),\n",
              " ('Twain', 'Rafting in the water', 601),\n",
              " ('Feynman', 'Physics', 95),\n",
              " ('Hamilton', 'Mythology', 144)]"
            ]
          },
          "metadata": {},
          "execution_count": 11
        }
      ]
    },
    {
      "cell_type": "code",
      "source": [
        "for book in library:\n",
        "  print(book)"
      ],
      "metadata": {
        "id": "0uxpyLMa9TB5",
        "outputId": "187cbe46-ab2b-4f20-f60c-d93b68699b98",
        "colab": {
          "base_uri": "https://localhost:8080/"
        }
      },
      "execution_count": 12,
      "outputs": [
        {
          "output_type": "stream",
          "name": "stdout",
          "text": [
            "('Author', 'Topics', 'Pages')\n",
            "('Twain', 'Rafting in the water', 601)\n",
            "('Feynman', 'Physics', 95)\n",
            "('Hamilton', 'Mythology', 144)\n"
          ]
        }
      ]
    },
    {
      "cell_type": "code",
      "source": [
        "for book in library:\n",
        "  print(f\"Author is {book[0]}\")"
      ],
      "metadata": {
        "id": "_0HYC5gg9aKB",
        "outputId": "c5588057-61ee-41d5-f07d-c0a69e8189c1",
        "colab": {
          "base_uri": "https://localhost:8080/"
        }
      },
      "execution_count": 13,
      "outputs": [
        {
          "output_type": "stream",
          "name": "stdout",
          "text": [
            "Author is Author\n",
            "Author is Twain\n",
            "Author is Feynman\n",
            "Author is Hamilton\n"
          ]
        }
      ]
    },
    {
      "cell_type": "code",
      "source": [
        "for author,title,pages in library:\n",
        "  print(f\"Author is {author}, book title is {title}, and the no. of pages in that book is {pages}\")"
      ],
      "metadata": {
        "id": "FtGB-a-U9jy0",
        "outputId": "b896b6f6-c2cd-4bd6-b899-77b4498d0960",
        "colab": {
          "base_uri": "https://localhost:8080/"
        }
      },
      "execution_count": 16,
      "outputs": [
        {
          "output_type": "stream",
          "name": "stdout",
          "text": [
            "Author is Author, book title is Topics, and the no. of pages in that book is Pages\n",
            "Author is Twain, book title is Rafting in the water, and the no. of pages in that book is 601\n",
            "Author is Feynman, book title is Physics, and the no. of pages in that book is 95\n",
            "Author is Hamilton, book title is Mythology, and the no. of pages in that book is 144\n"
          ]
        }
      ]
    },
    {
      "cell_type": "code",
      "source": [
        "for author,title,pages in library:\n",
        "  print(f\"{author:{30}}{title:{30}}{pages:{30}}\")"
      ],
      "metadata": {
        "id": "AQuk87QG9-NO",
        "outputId": "eb811ee0-d4d6-4d1a-b738-db55f2c4ee96",
        "colab": {
          "base_uri": "https://localhost:8080/"
        }
      },
      "execution_count": 18,
      "outputs": [
        {
          "output_type": "stream",
          "name": "stdout",
          "text": [
            "Author                        Topics                        Pages                         \n",
            "Twain                         Rafting in the water                                     601\n",
            "Feynman                       Physics                                                   95\n",
            "Hamilton                      Mythology                                                144\n"
          ]
        }
      ]
    },
    {
      "cell_type": "code",
      "source": [
        "for author,title,pages in library:\n",
        "  print(f\"{author:{30}}{title:{30}}{pages:>{30}}\")"
      ],
      "metadata": {
        "id": "lbt4-W3c-hfJ",
        "outputId": "0bad854d-947b-45fc-9a89-53c70675027c",
        "colab": {
          "base_uri": "https://localhost:8080/"
        }
      },
      "execution_count": 19,
      "outputs": [
        {
          "output_type": "stream",
          "name": "stdout",
          "text": [
            "Author                        Topics                                                 Pages\n",
            "Twain                         Rafting in the water                                     601\n",
            "Feynman                       Physics                                                   95\n",
            "Hamilton                      Mythology                                                144\n"
          ]
        }
      ]
    },
    {
      "cell_type": "code",
      "source": [
        "for author,title,pages in library:\n",
        "  print(f\"{author:{30}}{title:{25}}{pages:->{10}}\")"
      ],
      "metadata": {
        "id": "Zm-HHEV1UkOJ",
        "outputId": "52a56414-844e-4a79-a8a6-7032675e7574",
        "colab": {
          "base_uri": "https://localhost:8080/"
        }
      },
      "execution_count": 23,
      "outputs": [
        {
          "output_type": "stream",
          "name": "stdout",
          "text": [
            "Author                        Topics                   -----Pages\n",
            "Twain                         Rafting in the water     -------601\n",
            "Feynman                       Physics                  --------95\n",
            "Hamilton                      Mythology                -------144\n"
          ]
        }
      ]
    },
    {
      "cell_type": "code",
      "source": [
        "for author,title,pages in library:\n",
        "  print(f\"{author:{30}}{title:{25}}{pages:.>{10}}\")"
      ],
      "metadata": {
        "id": "vQ_ZkwT_Utko",
        "outputId": "3e2e72a1-6459-48d0-8f46-06d7f43844ef",
        "colab": {
          "base_uri": "https://localhost:8080/"
        }
      },
      "execution_count": 24,
      "outputs": [
        {
          "output_type": "stream",
          "name": "stdout",
          "text": [
            "Author                        Topics                   .....Pages\n",
            "Twain                         Rafting in the water     .......601\n",
            "Feynman                       Physics                  ........95\n",
            "Hamilton                      Mythology                .......144\n"
          ]
        }
      ]
    },
    {
      "cell_type": "markdown",
      "source": [
        "# Date formatting"
      ],
      "metadata": {
        "id": "mCzOTVsrVbQn"
      }
    },
    {
      "cell_type": "code",
      "source": [
        "from datetime import datetime"
      ],
      "metadata": {
        "id": "uKwv_9alU1z7"
      },
      "execution_count": 25,
      "outputs": []
    },
    {
      "cell_type": "code",
      "source": [
        "today = datetime(year = 2024, month = 1, day = 2)"
      ],
      "metadata": {
        "id": "XRWXqoz8VK8t"
      },
      "execution_count": 26,
      "outputs": []
    },
    {
      "cell_type": "code",
      "source": [
        "print(today)"
      ],
      "metadata": {
        "id": "BLqyQPx_VlT9",
        "outputId": "b176774c-4321-4e88-f637-03b11d4d9b4f",
        "colab": {
          "base_uri": "https://localhost:8080/"
        }
      },
      "execution_count": 27,
      "outputs": [
        {
          "output_type": "stream",
          "name": "stdout",
          "text": [
            "2024-01-02 00:00:00\n"
          ]
        }
      ]
    },
    {
      "cell_type": "code",
      "source": [
        "today"
      ],
      "metadata": {
        "id": "Bif1UAioVqvh",
        "outputId": "7215284c-f9bb-4999-fb6c-ba0d79264e3f",
        "colab": {
          "base_uri": "https://localhost:8080/"
        }
      },
      "execution_count": 29,
      "outputs": [
        {
          "output_type": "execute_result",
          "data": {
            "text/plain": [
              "datetime.datetime(2024, 1, 2, 0, 0)"
            ]
          },
          "metadata": {},
          "execution_count": 29
        }
      ]
    },
    {
      "cell_type": "code",
      "source": [
        "print(f\"{today}\")"
      ],
      "metadata": {
        "id": "PHzdpO0NVmwy",
        "outputId": "9104d59a-c765-44b4-929b-6f1ab40d4cbf",
        "colab": {
          "base_uri": "https://localhost:8080/"
        }
      },
      "execution_count": 28,
      "outputs": [
        {
          "output_type": "stream",
          "name": "stdout",
          "text": [
            "2024-01-02 00:00:00\n"
          ]
        }
      ]
    },
    {
      "cell_type": "code",
      "source": [
        "print(f\"{today:%B}\")"
      ],
      "metadata": {
        "id": "v0UmY2J0VvEL",
        "outputId": "3b4a1b55-0da0-4431-b36f-858aa44a510a",
        "colab": {
          "base_uri": "https://localhost:8080/"
        }
      },
      "execution_count": 30,
      "outputs": [
        {
          "output_type": "stream",
          "name": "stdout",
          "text": [
            "January\n"
          ]
        }
      ]
    },
    {
      "cell_type": "code",
      "source": [
        "print(f\"{today: %B %d, %y}\")"
      ],
      "metadata": {
        "id": "0Y5Yr_FYWB_0",
        "outputId": "e1651300-a34b-4d29-8dfa-0ee26b0deab1",
        "colab": {
          "base_uri": "https://localhost:8080/"
        }
      },
      "execution_count": 31,
      "outputs": [
        {
          "output_type": "stream",
          "name": "stdout",
          "text": [
            " January 02, 24\n"
          ]
        }
      ]
    },
    {
      "cell_type": "code",
      "source": [
        "print(f\"{today: %B %d, %Y}\")"
      ],
      "metadata": {
        "id": "DDG2sGhSWG-J",
        "outputId": "4f11ffb8-d518-4ee4-dab7-159561d4a23c",
        "colab": {
          "base_uri": "https://localhost:8080/"
        }
      },
      "execution_count": 32,
      "outputs": [
        {
          "output_type": "stream",
          "name": "stdout",
          "text": [
            " January 02, 2024\n"
          ]
        }
      ]
    },
    {
      "cell_type": "code",
      "source": [],
      "metadata": {
        "id": "oOdHnvlCWMEA"
      },
      "execution_count": null,
      "outputs": []
    }
  ]
}