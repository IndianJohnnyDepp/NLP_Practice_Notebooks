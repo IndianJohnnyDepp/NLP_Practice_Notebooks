{
  "nbformat": 4,
  "nbformat_minor": 0,
  "metadata": {
    "colab": {
      "provenance": [],
      "authorship_tag": "ABX9TyPbkWyqIX8TKhzF8YCHCzXQ",
      "include_colab_link": true
    },
    "kernelspec": {
      "name": "python3",
      "display_name": "Python 3"
    },
    "language_info": {
      "name": "python"
    }
  },
  "cells": [
    {
      "cell_type": "markdown",
      "metadata": {
        "id": "view-in-github",
        "colab_type": "text"
      },
      "source": [
        "<a href=\"https://colab.research.google.com/github/IndianJohnnyDepp/NLP_Practice_Notebooks/blob/main/Python_text_basics.ipynb\" target=\"_parent\"><img src=\"https://colab.research.google.com/assets/colab-badge.svg\" alt=\"Open In Colab\"/></a>"
      ]
    },
    {
      "cell_type": "code",
      "execution_count": 2,
      "metadata": {
        "colab": {
          "base_uri": "https://localhost:8080/"
        },
        "id": "AIpp52294LrZ",
        "outputId": "4d9bd167-8c27-4468-bd83-5eaed96bd5e4"
      },
      "outputs": [
        {
          "output_type": "stream",
          "name": "stdout",
          "text": [
            "My name is Aravind\n"
          ]
        }
      ],
      "source": [
        "name = \"Aravind\"\n",
        "print(\"My name is {}\".format(name))"
      ]
    },
    {
      "cell_type": "code",
      "source": [
        "language = \"python\"\n",
        "print(f\"This programming language is called {language}\")"
      ],
      "metadata": {
        "id": "VQg4YLZq5QbG",
        "outputId": "ec49f8a2-f479-4162-f634-fc49fa6faf41",
        "colab": {
          "base_uri": "https://localhost:8080/"
        }
      },
      "execution_count": 1,
      "outputs": [
        {
          "output_type": "stream",
          "name": "stdout",
          "text": [
            "This programming language is called python\n"
          ]
        }
      ]
    },
    {
      "cell_type": "code",
      "source": [
        "d = {'a': 123, 'b': 456}\n",
        "print(f\"The number corresponding to a is {d['a']}\")"
      ],
      "metadata": {
        "id": "7Bz03Am47s8k",
        "outputId": "e825fd7d-997d-4995-80d4-6b3eb321cdba",
        "colab": {
          "base_uri": "https://localhost:8080/"
        }
      },
      "execution_count": 3,
      "outputs": [
        {
          "output_type": "stream",
          "name": "stdout",
          "text": [
            "The number corresponding to a is 123\n"
          ]
        }
      ]
    },
    {
      "cell_type": "code",
      "source": [
        "mylist = [123,456]\n",
        "print(f\"The first number is {mylist[0]}\")"
      ],
      "metadata": {
        "id": "seKo4SF78IYd",
        "outputId": "9ced3955-9774-4e5d-a6ed-5804f863a87b",
        "colab": {
          "base_uri": "https://localhost:8080/"
        }
      },
      "execution_count": 4,
      "outputs": [
        {
          "output_type": "stream",
          "name": "stdout",
          "text": [
            "The first number is 123\n"
          ]
        }
      ]
    },
    {
      "cell_type": "code",
      "source": [],
      "metadata": {
        "id": "3YMEqZSY8VU4"
      },
      "execution_count": null,
      "outputs": []
    }
  ]
}